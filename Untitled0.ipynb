{
  "nbformat": 4,
  "nbformat_minor": 0,
  "metadata": {
    "colab": {
      "provenance": [],
      "authorship_tag": "ABX9TyO3K/9N7sXBkzTb4rCURF5w",
      "include_colab_link": true
    },
    "kernelspec": {
      "name": "python3",
      "display_name": "Python 3"
    },
    "language_info": {
      "name": "python"
    }
  },
  "cells": [
    {
      "cell_type": "markdown",
      "metadata": {
        "id": "view-in-github",
        "colab_type": "text"
      },
      "source": [
        "<a href=\"https://colab.research.google.com/github/minho11191/-/blob/main/Untitled0.ipynb\" target=\"_parent\"><img src=\"https://colab.research.google.com/assets/colab-badge.svg\" alt=\"Open In Colab\"/></a>"
      ]
    },
    {
      "cell_type": "code",
      "execution_count": 7,
      "metadata": {
        "colab": {
          "base_uri": "https://localhost:8080/"
        },
        "id": "Y_RWXfoBKCOL",
        "outputId": "cbe3fc41-a5f2-4168-f765-2f39c3ec9bb0"
      },
      "outputs": [
        {
          "output_type": "stream",
          "name": "stdout",
          "text": [
            "Mounted at /content/drive\n"
          ]
        }
      ],
      "source": [
        "from google.colab import drive\n",
        "drive.mount('/content/drive')"
      ]
    },
    {
      "cell_type": "code",
      "source": [
        "cd \"/content/drive/My Drive/practice\""
      ],
      "metadata": {
        "colab": {
          "base_uri": "https://localhost:8080/"
        },
        "id": "TC_bQKCRMkqi",
        "outputId": "1c0cc247-e169-4c2c-8fba-9c4a651904ec"
      },
      "execution_count": 12,
      "outputs": [
        {
          "output_type": "stream",
          "name": "stdout",
          "text": [
            "/content/drive/My Drive/practice\n"
          ]
        }
      ]
    },
    {
      "cell_type": "code",
      "source": [
        "!git clone https://github.com/Baekalfen/PyBoy.git"
      ],
      "metadata": {
        "colab": {
          "base_uri": "https://localhost:8080/"
        },
        "id": "Iwg0md6RNdpM",
        "outputId": "004ae5e5-d6c3-4bff-80bb-5c4ccd7ffb66"
      },
      "execution_count": 13,
      "outputs": [
        {
          "output_type": "stream",
          "name": "stdout",
          "text": [
            "Cloning into 'PyBoy'...\n",
            "remote: Enumerating objects: 9559, done.\u001b[K\n",
            "remote: Counting objects: 100% (4195/4195), done.\u001b[K\n",
            "remote: Compressing objects: 100% (919/919), done.\u001b[K\n",
            "remote: Total 9559 (delta 3373), reused 3276 (delta 3276), pack-reused 5364 (from 2)\u001b[K\n",
            "Receiving objects: 100% (9559/9559), 46.25 MiB | 10.42 MiB/s, done.\n",
            "Resolving deltas: 100% (7011/7011), done.\n",
            "Updating files: 100% (446/446), done.\n"
          ]
        }
      ]
    },
    {
      "cell_type": "code",
      "source": [
        "!ls -lir"
      ],
      "metadata": {
        "colab": {
          "base_uri": "https://localhost:8080/"
        },
        "id": "oBKWn8krOx8-",
        "outputId": "eb935c40-11f2-4de7-eff4-2cf54898a731"
      },
      "execution_count": 14,
      "outputs": [
        {
          "output_type": "stream",
          "name": "stdout",
          "text": [
            "total 4\n",
            "33 drwx------ 8 root root 4096 May 21 05:00 PyBoy\n"
          ]
        }
      ]
    }
  ]
}